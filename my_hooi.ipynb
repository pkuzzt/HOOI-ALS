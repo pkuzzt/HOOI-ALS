{
 "cells": [
  {
   "cell_type": "code",
   "execution_count": 141,
   "metadata": {},
   "outputs": [],
   "source": [
    "import numpy as np\n",
    "\n",
    "# mode-n matricization of a tensor\n",
    "def ten2mat(A, n):\n",
    "    N = A.ndim\n",
    "    sizeA = np.array(A.shape)\n",
    "    In = sizeA[n]\n",
    "    Jn = int(A.size / In)\n",
    "\n",
    "    perm = np.array(n)\n",
    "    perm = np.append(perm, np.arange(n))\n",
    "    perm = np.append(perm, np.arange(n+1,N))\n",
    "    B = np.transpose(A, perm)\n",
    "    A_mat = np.reshape(B, [In, Jn])\n",
    "\n",
    "    return A_mat"
   ]
  },
  {
   "cell_type": "code",
   "execution_count": 142,
   "metadata": {},
   "outputs": [],
   "source": [
    "# change mode-n matricization to tensor\n",
    "def mat2ten(A, n, dimX):\n",
    "    N = dimX.size\n",
    "    size1 = np.delete(dimX, n)\n",
    "    size1 = np.insert(size1, 0, dimX[n])\n",
    "    A = np.reshape(A, size1)\n",
    "    perm = np.arange(1,N)\n",
    "    perm = np.insert(perm, n, 0)\n",
    "    A = np.transpose(A, perm)\n",
    "    return A"
   ]
  },
  {
   "cell_type": "code",
   "execution_count": 143,
   "metadata": {},
   "outputs": [],
   "source": [
    "def ttm(A, U, n):\n",
    "    N = A.ndim\n",
    "    sizeA = np.array(A.shape)\n",
    "    sizeU = np.array(U.shape)\n",
    "\n",
    "    sizeB = np.delete(sizeA, n)\n",
    "    sizeB = np.insert(sizeB, 0, sizeU[0])\n",
    "    A_mat = ten2mat(A, n)\n",
    "    B = np.matmul(U, A_mat)\n",
    "    B = np.reshape(B, sizeB)\n",
    "    perm = np.arange(N)\n",
    "    perm = np.delete(perm, 0)\n",
    "    perm = np.insert(perm, n, 0)\n",
    "    B = np.transpose(B, perm)\n",
    "    return B"
   ]
  },
  {
   "cell_type": "code",
   "execution_count": 144,
   "metadata": {},
   "outputs": [],
   "source": [
    "def ttmc(A, U_list, mode_index):\n",
    "    B = np.array(A, copy=True)\n",
    "    for i in range(len(U_list)):\n",
    "        B = ttm(B, U_list[i], mode_index[i])\n",
    "    return B"
   ]
  },
  {
   "cell_type": "code",
   "execution_count": 145,
   "metadata": {},
   "outputs": [],
   "source": [
    "# test matricization\n",
    "import random\n",
    "import math\n",
    "def test_ten2mat():\n",
    "    dimX = np.array([10, 20, 30])\n",
    "    X = np.random.random(dimX)\n",
    "    X1 = ten2mat(X, 0)\n",
    "\n",
    "    error = 0\n",
    "    for t in range(100):\n",
    "        i = random.randint(0, dimX[0] - 1)\n",
    "        j = random.randint(0, dimX[1] - 1)\n",
    "        k = random.randint(0, dimX[2] - 1)\n",
    "        jk = j * dimX[2] + k\n",
    "        error += abs(X[i, j, k] - X1[i, jk])\n",
    "    \n",
    "    if error == 0:\n",
    "        print(\"matricization passed unit test\")\n",
    "    else:\n",
    "        print(\"matricization failed unit test\")"
   ]
  },
  {
   "cell_type": "code",
   "execution_count": 146,
   "metadata": {},
   "outputs": [],
   "source": [
    "# test mat2ten\n",
    "def test_mat2ten():\n",
    "    dimX = np.array([10, 20, 30])\n",
    "    X = np.random.random(dimX)\n",
    "    X1 = ten2mat(X, 0)\n",
    "    X2 = mat2ten(X1, 0, dimX)\n",
    "    error = np.linalg.norm(X - X2)\n",
    "    if error < 1e-8:\n",
    "        print(\"mat2ten passed unit test\")\n",
    "    else:\n",
    "        print(\"mat2ten failed unit test\")"
   ]
  },
  {
   "cell_type": "code",
   "execution_count": 147,
   "metadata": {},
   "outputs": [],
   "source": [
    "# test ttm\n",
    "def test_ttm():\n",
    "    dimX = np.array([10, 20, 30])\n",
    "    mode1 = 1\n",
    "    mode2 = 0\n",
    "    X = np.random.random(dimX)\n",
    "    A = np.random.random([dimX[mode1], dimX[mode1]])\n",
    "    B = np.random.random([dimX[mode2], dimX[mode2]])\n",
    "    A_inv = np.linalg.inv(A)\n",
    "    B_inv = np.linalg.inv(B)\n",
    "    X1 = ttm(X, A, mode1)\n",
    "    Y1 = ttm(X1, B, mode2)\n",
    "    X2 = ttm(Y1, A_inv, mode1)\n",
    "    Y2 = ttm(X2, B_inv, mode2)\n",
    "    error = np.linalg.norm(X - Y2)\n",
    "    if error < 1e-8:\n",
    "        print(\"ttm passed unit test\")\n",
    "    else:\n",
    "        print(\"ttm failed unit test\")\n"
   ]
  },
  {
   "cell_type": "code",
   "execution_count": 148,
   "metadata": {},
   "outputs": [],
   "source": [
    "# test ttmc\n",
    "def test_ttmc():\n",
    "    dimX = np.array([10, 20, 30])\n",
    "    X = np.random.random(dimX)\n",
    "    A_list = []\n",
    "    A_inv_list = []\n",
    "    for mode in range(3):\n",
    "        A_list.append(np.random.random([dimX[mode], dimX[mode]]))\n",
    "    for A in A_list:\n",
    "        A_inv_list.append(np.linalg.inv(A))\n",
    "    mode_list = np.arange(3)\n",
    "    X1 = ttmc(X, A_list, mode_list)\n",
    "    X2 = ttmc(X1, A_inv_list, mode_list)\n",
    "    error = np.linalg.norm(X - X2)\n",
    "    if error < 1e-8:\n",
    "        print(\"ttmc passed unit test\")\n",
    "    else:\n",
    "        print(\"ttmc failed unit test\")"
   ]
  },
  {
   "cell_type": "code",
   "execution_count": 149,
   "metadata": {},
   "outputs": [
    {
     "name": "stdout",
     "output_type": "stream",
     "text": [
      "ttmc passed unit test\n"
     ]
    }
   ],
   "source": [
    "# test_ten2mat()\n",
    "# test_mat2ten()\n",
    "# test_ttm()\n",
    "# test_ttmc()"
   ]
  }
 ],
 "metadata": {
  "interpreter": {
   "hash": "916dbcbb3f70747c44a77c7bcd40155683ae19c65e1c03b4aa3499c5328201f1"
  },
  "kernelspec": {
   "display_name": "Python 3.8.10 64-bit",
   "language": "python",
   "name": "python3"
  },
  "language_info": {
   "codemirror_mode": {
    "name": "ipython",
    "version": 3
   },
   "file_extension": ".py",
   "mimetype": "text/x-python",
   "name": "python",
   "nbconvert_exporter": "python",
   "pygments_lexer": "ipython3",
   "version": "3.8.10"
  },
  "orig_nbformat": 4
 },
 "nbformat": 4,
 "nbformat_minor": 2
}
